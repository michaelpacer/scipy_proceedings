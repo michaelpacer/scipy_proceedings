{
 "cells": [
  {
   "cell_type": "raw",
   "metadata": {},
   "source": [
    ":author: Gaius Caesar\n",
    ":email: jj@rome.it\n",
    ":institution: Senate House, S.P.Q.R.\n",
    ":institution: Egyptian Embassy, S.P.Q.R.\n",
    "\n",
    ":author: Mark Anthony\n",
    ":email: mark37@rome.it\n",
    ":institution: Egyptian Embassy, S.P.Q.R.\n",
    "\n",
    ":author: Jarrod Millman\n",
    ":email: millman@rome.it\n",
    ":institution: Egyptian Embassy, S.P.Q.R.\n",
    ":institution: Yet another place, S.P.Q.R.\n",
    "\n",
    ":author: Brutus\n",
    ":email: brutus@rome.it\n",
    ":institution: Unaffiliated\n",
    ":bibliography: mybib\n",
    "\n",
    "\n",
    ":video: http://www.youtube.com/watch?v=dhRUe-gz690"
   ]
  },
  {
   "cell_type": "raw",
   "metadata": {},
   "source": [
    "------------------------------------------------\n",
    "A Numerical Perspective to Terraforming a Desert\n",
    "------------------------------------------------"
   ]
  },
  {
   "cell_type": "raw",
   "metadata": {},
   "source": [
    ".. class:: abstract\n",
    "\n",
    "   A short version of the long version that is way too long to be written as a\n",
    "   short version anyway.  Still, when considering the facts from first\n",
    "   principles, we find that the outcomes of this introspective approach is\n",
    "   compatible with the guidelines previously established.\n",
    "\n",
    "   In such an experiment it is then clear that the potential for further\n",
    "   development not only depends on previous relationships found but also on\n",
    "   connections made during exploitation of this novel new experimental\n",
    "   protocol.\n",
    "\n",
    ".. class:: keywords\n",
    "\n",
    "   terraforming, desert, numerical perspective"
   ]
  },
  {
   "cell_type": "raw",
   "metadata": {},
   "source": [
    "Introduction\n",
    "------------\n",
    "\n",
    "Twelve hundred years ago  |---| in a galaxy just across the hill...\n",
    "\n",
    "Lorem ipsum dolor sit amet, consectetur adipiscing elit. Vestibulum sapien\n",
    "tortor, bibendum et pretium molestie, dapibus ac ante. Nam odio orci, interdum\n",
    "sit amet placerat non, molestie sed dui. Pellentesque eu quam ac mauris\n",
    "tristique sodales. Fusce sodales laoreet nulla, id pellentesque risus convallis\n",
    "eget. Nam id ante gravida justo eleifend semper vel ut nisi. Phasellus\n",
    "adipiscing risus quis dui facilisis fermentum. Duis quis sodales neque. Aliquam\n",
    "ut tellus dolor. Etiam ac elit nec risus lobortis tempus id nec erat. Morbi eu\n",
    "purus enim. Integer et velit vitae arcu interdum aliquet at eget purus. Integer\n",
    "quis nisi neque. Morbi ac odio et leo dignissim sodales. Pellentesque nec nibh\n",
    "nulla. Donec faucibus purus leo. Nullam vel lorem eget enim blandit ultrices.\n",
    "Ut urna lacus, scelerisque nec pellentesque quis, laoreet eu magna. Quisque ac\n",
    "justo vitae odio tincidunt tempus at vitae tortor."
   ]
  },
  {
   "cell_type": "raw",
   "metadata": {},
   "source": [
    "Bibliographies, citations and block quotes\n",
    "------------------------------------------\n",
    "\n",
    "If you want to include a ``.bib`` file, do so above by placing  :code:`:bibliography: yourFilenameWithoutExtension` as above (replacing ``mybib``) for a file named :code:`yourFilenameWithoutExtension.bib` after removing the ``.bib`` extension. \n",
    "\n",
    "**Do not include any special characters that need to be escaped or any spaces in the bib-file's name**. Doing so makes bibTeX cranky, & the rst to LaTeX+bibTeX transform won't work. \n",
    "\n",
    "To reference citations contained in that bibliography use the :code:`:cite:`citation-key`` role, as in :cite:`hume48` (which literally is :code:`:cite:`hume48`` in accordance with the ``hume48`` cite-key in the associated ``mybib.bib`` file).\n",
    "\n",
    "However, if you use a bibtex file, this will overwrite any manually written references. \n",
    "\n",
    "So what would previously have registered as a in text reference ``[Atr03]_`` for \n",
    "\n",
    ":: \n",
    "\n",
    "     [Atr03] P. Atreides. *How to catch a sandworm*,\n",
    "           Transactions on Terraforming, 21(3):261-300, August 2003.\n",
    "\n",
    "what you actually see will be an empty reference rendered as **[?]**.\n",
    "\n",
    "E.g., [Atr03]_.\n",
    "\n",
    "\n",
    "If you wish to have a block quote, you can just indent the text, as in \n",
    "\n",
    "    When it is asked, What is the nature of all our reasonings concerning matter of fact? the proper answer seems to be, that they are founded on the relation of cause and effect. When again it is asked, What is the foundation of all our reasonings and conclusions concerning that relation? it may be replied in one word, experience. But if we still carry on our sifting humor, and ask, What is the foundation of all conclusions from experience? this implies a new question, which may be of more difficult solution and explication. :cite:`hume48`"
   ]
  },
  {
   "cell_type": "raw",
   "metadata": {},
   "source": [
    "Source code examples\n",
    "--------------------\n",
    "\n",
    "Of course, no paper would be complete without some source code.  Without\n",
    "highlighting, it would look like this::"
   ]
  },
  {
   "cell_type": "raw",
   "metadata": {},
   "source": [
    "    def sum(a, b):\n",
    "       \"\"\"Sum two numbers.\"\"\"\n",
    "\n",
    "       return a + b"
   ]
  },
  {
   "cell_type": "raw",
   "metadata": {},
   "source": [
    "With code-highlighting:"
   ]
  },
  {
   "cell_type": "code",
   "execution_count": 9,
   "metadata": {
    "collapsed": true
   },
   "outputs": [],
   "source": [
    "def sum(a, b):\n",
    "   \"\"\"Sum two numbers.\"\"\"\n",
    "\n",
    "   return a + b"
   ]
  },
  {
   "cell_type": "raw",
   "metadata": {},
   "source": [
    "Maybe also in another language, and with line numbers:"
   ]
  },
  {
   "cell_type": "raw",
   "metadata": {},
   "source": [
    ".. code-block:: c\n",
    "    :linenos:\n",
    "\n",
    "    int main() {\n",
    "       for (int i = 0; i < 10; i++) {\n",
    "           /* do something */\n",
    "       }\n",
    "       return 0;\n",
    "    }"
   ]
  },
  {
   "cell_type": "raw",
   "metadata": {},
   "source": [
    "Or a snippet from the above code, starting at the correct line number:"
   ]
  },
  {
   "cell_type": "raw",
   "metadata": {},
   "source": [
    ".. code-block:: c\n",
    "   :linenos:\n",
    "   :linenostart: 2\n",
    "\n",
    "   for (int i = 0; i < 10; i++) {\n",
    "       /* do something */\n",
    "   }"
   ]
  },
  {
   "cell_type": "markdown",
   "metadata": {},
   "source": [
    "## Important Part\n",
    "\n",
    "It is well known <cite data-cite=\"Atr03\">(?)</cite> that Spice grows on the planet Dune.  Test\n",
    "some maths, for example $e^{\\pi i} + 3 \\delta$.  Or maybe an\n",
    "equation on a separate line:\n",
    "\n",
    "\n",
    "$$g(x) = \\int_0^\\infty f(x) dx$$\n",
    "\n",
    "or on multiple, aligned lines:\n",
    "\n",
    "\\begin{eqnarray} \\\\\n",
    "   g(x) &=& \\int_0^\\infty f(x) dx \\\\\n",
    "        &=& \\ldots\n",
    "\\end{eqnarray}\n",
    "\n",
    "The area of a circle and volume of a sphere are given as\n",
    "\n",
    "\\begin{equation} \\label{circarea}\n",
    "A(r) = \\pi r^2.\n",
    "\\end{equation}\n",
    "\n",
    "\\begin{equation} \\label{spherevol}\n",
    "   V(r) = \\frac{4}{3} \\pi r^3\n",
    "\\end{equation}"
   ]
  },
  {
   "cell_type": "raw",
   "metadata": {},
   "source": [
    "We can then refer back to Equation (:ref:`circarea`) or\n",
    "(:ref:`spherevol`) later."
   ]
  },
  {
   "cell_type": "raw",
   "metadata": {},
   "source": [
    "Mauris purus enim, volutpat non dapibus et, gravida sit amet sapien. In at\n",
    "consectetur lacus. Praesent orci nulla, blandit eu egestas nec, facilisis vel\n",
    "lacus. Fusce non ante vitae justo faucibus facilisis. Nam venenatis lacinia\n",
    "turpis. Donec eu ultrices mauris. Ut pulvinar viverra rhoncus. Vivamus\n",
    "adipiscing faucibus ligula, in porta orci vehicula in. Suspendisse quis augue\n",
    "arcu, sit amet accumsan diam. Vestibulum lacinia luctus dui. Aliquam odio arcu,\n",
    "faucibus non laoreet ac, condimentum eu quam. Quisque et nunc non diam\n",
    "consequat iaculis ut quis leo. Integer suscipit accumsan ligula. Sed nec eros a\n",
    "orci aliquam dictum sed ac felis. Suspendisse sit amet dui ut ligula iaculis\n",
    "sollicitudin vel id velit. Pellentesque hendrerit sapien ac ante facilisis\n",
    "lacinia. Nunc sit amet sem sem. In tellus metus, elementum vitae tincidunt ac,\n",
    "volutpat sit amet mauris. Maecenas [#]_ diam turpis, placerat [#]_ at adipiscing ac,\n",
    "pulvinar id metus.\n",
    "\n",
    ".. [#] On the one hand, a footnote.\n",
    ".. [#] On the other hand, another footnote.\n",
    "\n",
    ".. figure:: figure1.png\n",
    "\n",
    "   This is the caption. :label:`egfig`\n",
    "\n",
    ".. figure:: figure1.png\n",
    "   :align: center\n",
    "   :figclass: w\n",
    "\n",
    "   This is a wide figure, specified by adding \"w\" to the figclass.  It is also\n",
    "   center aligned, by setting the align keyword (can be left, right or center).\n",
    "\n",
    ".. figure:: figure1.png\n",
    "   :scale: 20%\n",
    "   :figclass: bht\n",
    "\n",
    "   This is the caption on a smaller figure that will be placed by default at the\n",
    "   bottom of the page, and failing that it will be placed inline or at the top.\n",
    "   Note that for now, scale is relative to a completely arbitrary original\n",
    "   reference size which might be the original size of your image - you probably\n",
    "   have to play with it. :label:`egfig2`\n",
    "\n",
    "As you can see in Figures :ref:`egfig` and :ref:`egfig2`, this is how you reference auto-numbered\n",
    "figures.\n",
    "\n",
    ".. table:: This is the caption for the materials table. :label:`mtable`\n",
    "\n",
    "   +------------+----------------+\n",
    "   | Material   | Units          |\n",
    "   +============+================+\n",
    "   | Stone      | 3              |\n",
    "   +------------+----------------+\n",
    "   | Water      | 12             |\n",
    "   +------------+----------------+\n",
    "   | Cement     | :math:`\\alpha` |\n",
    "   +------------+----------------+\n",
    "\n",
    "\n",
    "We show the different quantities of materials required in Table\n",
    ":ref:`mtable`.\n",
    "\n",
    "\n",
    ".. The statement below shows how to adjust the width of a table.\n",
    "\n",
    ".. raw:: latex\n",
    "\n",
    "   \\setlength{\\tablewidth}{0.8\\linewidth}\n",
    "\n",
    "\n",
    ".. table:: This is the caption for the wide table.\n",
    "   :class: w\n",
    "\n",
    "   +--------+----+------+------+------+------+--------+\n",
    "   | This   | is |  a   | very | very | wide | table  |\n",
    "   +--------+----+------+------+------+------+--------+\n",
    "\n",
    "Unfortunately, restructuredtext can be picky about tables, so if it simply\n",
    "won't work try raw LaTeX:\n",
    "\n",
    "\n",
    ".. raw:: latex\n",
    "\n",
    "   \\begin{table*}\n",
    "\n",
    "     \\begin{longtable*}{|l|r|r|r|}\n",
    "     \\hline\n",
    "     \\multirow{2}{*}{Projection} & \\multicolumn{3}{c|}{Area in square miles}\\tabularnewline\n",
    "     \\cline{2-4}\n",
    "      & Large Horizontal Area & Large Vertical Area & Smaller Square Area\\tabularnewline\n",
    "     \\hline\n",
    "     Albers Equal Area  & 7,498.7 & 10,847.3 & 35.8\\tabularnewline\n",
    "     \\hline\n",
    "     Web Mercator & 13,410.0 & 18,271.4 & 63.0\\tabularnewline\n",
    "     \\hline\n",
    "     Difference & 5,911.3 & 7,424.1 & 27.2\\tabularnewline\n",
    "     \\hline\n",
    "     Percent Difference & 44\\% & 41\\% & 43\\%\\tabularnewline\n",
    "     \\hline\n",
    "     \\end{longtable*}\n",
    "\n",
    "     \\caption{Area Comparisons \\DUrole{label}{quanitities-table}}\n",
    "\n",
    "   \\end{table*}\n",
    "\n",
    "Perhaps we want to end off with a quote by Lao Tse [#]_:\n",
    "\n",
    "  *Muddy water, let stand, becomes clear.*\n",
    "\n",
    ".. [#] :math:`\\mathrm{e^{-i\\pi}}`"
   ]
  },
  {
   "cell_type": "raw",
   "metadata": {},
   "source": [
    ".. Customised LaTeX packages\n",
    ".. -------------------------\n",
    "\n",
    ".. Please avoid using this feature, unless agreed upon with the\n",
    ".. proceedings editors.\n",
    "\n",
    ".. ::\n",
    "\n",
    "..   .. latex::\n",
    "..      :usepackage: somepackage\n",
    "\n",
    "..      Some custom LaTeX source here."
   ]
  },
  {
   "cell_type": "raw",
   "metadata": {},
   "source": [
    "References\n",
    "----------\n",
    ".. [Atr03] P. Atreides. *How to catch a sandworm*,\n",
    "           Transactions on Terraforming, 21(3):261-300, August 2003."
   ]
  }
 ],
 "metadata": {
  "kernelspec": {
   "display_name": "Python 3",
   "language": "python",
   "name": "python3"
  },
  "language_info": {
   "codemirror_mode": {
    "name": "ipython",
    "version": 3
   },
   "file_extension": ".py",
   "mimetype": "text/x-python",
   "name": "python",
   "nbconvert_exporter": "python",
   "pygments_lexer": "ipython3",
   "version": "3.6.0"
  }
 },
 "nbformat": 4,
 "nbformat_minor": 2
}
